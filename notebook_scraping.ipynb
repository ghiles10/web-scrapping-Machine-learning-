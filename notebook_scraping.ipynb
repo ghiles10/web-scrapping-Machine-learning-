{
 "cells": [
  {
   "cell_type": "code",
   "execution_count": 9,
   "metadata": {},
   "outputs": [],
   "source": [
    "# import modules\n",
    "import sys\n",
    "sys.path.append(r\"./scripts\")\n",
    "import findspark\n",
    "from pyspark.sql import SparkSession\n",
    "import pandas as pd\n",
    "import warnings\n",
    "warnings.filterwarnings(\"ignore\")\n",
    "import re\n",
    "\n"
   ]
  },
  {
   "cell_type": "code",
   "execution_count": 10,
   "metadata": {},
   "outputs": [],
   "source": [
    "findspark.init()\n",
    "spark_session = SparkSession.builder.appName('data_film').master(\"local[*]\").getOrCreate()\n"
   ]
  },
  {
   "cell_type": "code",
   "execution_count": 3,
   "metadata": {},
   "outputs": [
    {
     "name": "stdout",
     "output_type": "stream",
     "text": [
      "debut scrapping\n",
      "extracting data done\n"
     ]
    }
   ],
   "source": [
    "# générer les données\n",
    "from scripts import write_to_txt\n",
    "write_to_txt.extract_data()"
   ]
  },
  {
   "cell_type": "code",
   "execution_count": 11,
   "metadata": {},
   "outputs": [],
   "source": [
    "data = spark_session.read.option(\"delimiter\", \"\\t\").csv('data/data_film.txt', header=False)\n",
    "data = data.toDF('titre', 'date', 'duree', 'type', 'note', 'nombre avis', 'avis')"
   ]
  },
  {
   "cell_type": "markdown",
   "metadata": {},
   "source": [
    "# Preprocess"
   ]
  },
  {
   "cell_type": "code",
   "execution_count": 12,
   "metadata": {},
   "outputs": [
    {
     "ename": "TypeError",
     "evalue": "col should be Column",
     "output_type": "error",
     "traceback": [
      "\u001b[0;31m---------------------------------------------------------------------------\u001b[0m",
      "\u001b[0;31mTypeError\u001b[0m                                 Traceback (most recent call last)",
      "Cell \u001b[0;32mIn[12], line 3\u001b[0m\n\u001b[1;32m      1\u001b[0m \u001b[39mfrom\u001b[39;00m \u001b[39mscripts\u001b[39;00m \u001b[39mimport\u001b[39;00m preprocess_for_ML\n\u001b[0;32m----> 3\u001b[0m data \u001b[39m=\u001b[39m preprocess_for_ML\u001b[39m.\u001b[39;49mpreproces_for_machine_learning(data, spark_session)\n",
      "File \u001b[0;32m/workspaces/web-scrapping-Machine-learning-/scripts/preprocess_for_ML.py:45\u001b[0m, in \u001b[0;36mpreproces_for_machine_learning\u001b[0;34m(data, spark_session)\u001b[0m\n\u001b[1;32m     42\u001b[0m data \u001b[39m=\u001b[39m data\u001b[39m.\u001b[39mwithColumn(\u001b[39m\"\u001b[39m\u001b[39mdate\u001b[39m\u001b[39m\"\u001b[39m, F\u001b[39m.\u001b[39mto_date(\u001b[39m\"\u001b[39m\u001b[39mdate\u001b[39m\u001b[39m\"\u001b[39m, \u001b[39m\"\u001b[39m\u001b[39mdd MM yyyy\u001b[39m\u001b[39m\"\u001b[39m))\n\u001b[1;32m     44\u001b[0m \u001b[39m#caster string to int \u001b[39;00m\n\u001b[0;32m---> 45\u001b[0m data \u001b[39m=\u001b[39m data\u001b[39m.\u001b[39;49mwithColumn(\u001b[39m\"\u001b[39;49m\u001b[39mduree\u001b[39;49m\u001b[39m\"\u001b[39;49m, F\u001b[39m.\u001b[39;49mcast(\u001b[39m\"\u001b[39;49m\u001b[39mduree\u001b[39;49m\u001b[39m\"\u001b[39;49m, \u001b[39m\"\u001b[39;49m\u001b[39mint\u001b[39;49m\u001b[39m\"\u001b[39;49m))\n\u001b[1;32m     46\u001b[0m data \u001b[39m=\u001b[39m data\u001b[39m.\u001b[39mwithColumn(\u001b[39m\"\u001b[39m\u001b[39mnote\u001b[39m\u001b[39m\"\u001b[39m, F\u001b[39m.\u001b[39mcast(\u001b[39m\"\u001b[39m\u001b[39mnote\u001b[39m\u001b[39m\"\u001b[39m, \u001b[39m\"\u001b[39m\u001b[39mint\u001b[39m\u001b[39m\"\u001b[39m))\n\u001b[1;32m     48\u001b[0m \u001b[39mreturn\u001b[39;00m data\n",
      "File \u001b[0;32m~/.python/current/lib/python3.10/site-packages/pyspark/sql/dataframe.py:3035\u001b[0m, in \u001b[0;36mDataFrame.withColumn\u001b[0;34m(self, colName, col)\u001b[0m\n\u001b[1;32m   3005\u001b[0m \u001b[39m\"\"\"\u001b[39;00m\n\u001b[1;32m   3006\u001b[0m \u001b[39mReturns a new :class:`DataFrame` by adding a column or replacing the\u001b[39;00m\n\u001b[1;32m   3007\u001b[0m \u001b[39mexisting column that has the same name.\u001b[39;00m\n\u001b[0;32m   (...)\u001b[0m\n\u001b[1;32m   3032\u001b[0m \n\u001b[1;32m   3033\u001b[0m \u001b[39m\"\"\"\u001b[39;00m\n\u001b[1;32m   3034\u001b[0m \u001b[39mif\u001b[39;00m \u001b[39mnot\u001b[39;00m \u001b[39misinstance\u001b[39m(col, Column):\n\u001b[0;32m-> 3035\u001b[0m     \u001b[39mraise\u001b[39;00m \u001b[39mTypeError\u001b[39;00m(\u001b[39m\"\u001b[39m\u001b[39mcol should be Column\u001b[39m\u001b[39m\"\u001b[39m)\n\u001b[1;32m   3036\u001b[0m \u001b[39mreturn\u001b[39;00m DataFrame(\u001b[39mself\u001b[39m\u001b[39m.\u001b[39m_jdf\u001b[39m.\u001b[39mwithColumn(colName, col\u001b[39m.\u001b[39m_jc), \u001b[39mself\u001b[39m\u001b[39m.\u001b[39msparkSession)\n",
      "\u001b[0;31mTypeError\u001b[0m: col should be Column"
     ]
    }
   ],
   "source": [
    "from scripts import preprocess_for_ML\n",
    "\n",
    "data = preprocess_for_ML.preproces_for_machine_learning(data, spark_session)"
   ]
  },
  {
   "cell_type": "code",
   "execution_count": null,
   "metadata": {},
   "outputs": [
    {
     "name": "stdout",
     "output_type": "stream",
     "text": [
      "root\n",
      " |-- titre: string (nullable = true)\n",
      " |-- date: date (nullable = true)\n",
      " |-- duree: string (nullable = true)\n",
      " |-- type: string (nullable = true)\n",
      " |-- note: string (nullable = true)\n",
      " |-- nombre avis: string (nullable = true)\n",
      " |-- avis: string (nullable = true)\n",
      "\n"
     ]
    }
   ],
   "source": [
    "data.printSchema()"
   ]
  },
  {
   "cell_type": "code",
   "execution_count": null,
   "metadata": {},
   "outputs": [
    {
     "name": "stdout",
     "output_type": "stream",
     "text": [
      "+--------------------+----------+-----+--------------------+----+-----------+--------------------+\n",
      "|               titre|      date|duree|                type|note|nombre avis|                avis|\n",
      "+--------------------+----------+-----+--------------------+----+-----------+--------------------+\n",
      "|  Les Bonnes étoiles|2022-12-07|    2|               Drame| 3.8|         75|\\nNe me demandez ...|\n",
      "|              Avatar|2009-12-16|    2|Science fiction A...| 4.3|        896|\\nPas trop friand...|\n",
      "|Avatar : la voie ...|2022-12-14|    3|Science fiction A...| 4.4|        072|\\nEnfin de retour...|\n",
      "|  Fumer fait tousser|2022-11-30|    1|             Comédie| 2.8|        159|\\nFranchement ass...|\n",
      "|Black Panther: Wa...|2022-11-09|    2|Action Aventure F...| 3.4|        551|\\nComme le monde ...|\n",
      "|Ernest et Célesti...|2022-12-14|    1|   Animation Famille| 4.2|         16|\\nDix ans après s...|\n",
      "|             Le Menu|2022-11-23|    1|            Thriller| 3.4|        175|\\nHors d\\oeuvre:U...|\n",
      "|        Reste un peu|2022-11-16|    1|             Comédie| 3.4|        325|\\nPeut-on appréci...|\n",
      "|Couleurs de l'inc...|2022-11-09|    2|    Historique Drame| 4.0|        392|\\nExcellent filmL...|\n",
      "|          Le Torrent|2022-11-30|    1|            Thriller| 3.1|        145|\\nCe nest pas un ...|\n",
      "|  Les Huit Montagnes|2022-12-21|    2|               Drame| 3.8|         18|\\nComme c’était d...|\n",
      "|           Les Miens|2022-11-23|    1|               Drame| 3.6|        104|\\nLes Miens est l...|\n",
      "|         Falcon Lake|2022-12-07|    1|Comédie dramatiqu...| 3.8|         34|\\nQuinzaine des R...|\n",
      "|Le Chat Potté 2 :...|2022-12-07|    1|Animation Comédie...| 4.1|         90|\\nJe m\\étais un p...|\n",
      "|        Annie Colère|2022-11-30|    2|  Comédie dramatique| 4.0|         92|\\nDe Blandine Len...|\n",
      "|  Les Bonnes étoiles|2022-12-07|    2|               Drame| 3.8|         75|\\nNe me demandez ...|\n",
      "|              Avatar|2009-12-16|    2|Science fiction A...| 4.3|        896|\\nPas trop friand...|\n",
      "|Avatar : la voie ...|2022-12-14|    3|Science fiction A...| 4.4|        072|\\nEnfin de retour...|\n",
      "|  Fumer fait tousser|2022-11-30|    1|             Comédie| 2.8|        159|\\nFranchement ass...|\n",
      "|Black Panther: Wa...|2022-11-09|    2|Action Aventure F...| 3.4|        551|\\nComme le monde ...|\n",
      "+--------------------+----------+-----+--------------------+----+-----------+--------------------+\n",
      "only showing top 20 rows\n",
      "\n"
     ]
    }
   ],
   "source": [
    "data.show()"
   ]
  },
  {
   "cell_type": "code",
   "execution_count": null,
   "metadata": {},
   "outputs": [],
   "source": []
  },
  {
   "cell_type": "code",
   "execution_count": null,
   "metadata": {},
   "outputs": [],
   "source": []
  },
  {
   "cell_type": "code",
   "execution_count": null,
   "metadata": {},
   "outputs": [],
   "source": []
  },
  {
   "cell_type": "code",
   "execution_count": null,
   "metadata": {},
   "outputs": [],
   "source": []
  },
  {
   "cell_type": "code",
   "execution_count": null,
   "metadata": {},
   "outputs": [],
   "source": []
  },
  {
   "cell_type": "code",
   "execution_count": null,
   "metadata": {},
   "outputs": [],
   "source": []
  },
  {
   "cell_type": "code",
   "execution_count": null,
   "metadata": {},
   "outputs": [],
   "source": []
  },
  {
   "cell_type": "code",
   "execution_count": null,
   "metadata": {},
   "outputs": [],
   "source": []
  },
  {
   "cell_type": "code",
   "execution_count": null,
   "metadata": {},
   "outputs": [],
   "source": []
  },
  {
   "cell_type": "code",
   "execution_count": null,
   "metadata": {},
   "outputs": [],
   "source": []
  },
  {
   "cell_type": "code",
   "execution_count": null,
   "metadata": {},
   "outputs": [],
   "source": []
  }
 ],
 "metadata": {
  "kernelspec": {
   "display_name": "Python 3.10.4 64-bit",
   "language": "python",
   "name": "python3"
  },
  "language_info": {
   "codemirror_mode": {
    "name": "ipython",
    "version": 3
   },
   "file_extension": ".py",
   "mimetype": "text/x-python",
   "name": "python",
   "nbconvert_exporter": "python",
   "pygments_lexer": "ipython3",
   "version": "3.10.4"
  },
  "orig_nbformat": 4,
  "vscode": {
   "interpreter": {
    "hash": "3ad933181bd8a04b432d3370b9dc3b0662ad032c4dfaa4e4f1596c548f763858"
   }
  }
 },
 "nbformat": 4,
 "nbformat_minor": 2
}
